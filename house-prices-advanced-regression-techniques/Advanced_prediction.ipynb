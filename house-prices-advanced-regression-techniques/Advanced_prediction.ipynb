{
 "cells": [
  {
   "cell_type": "markdown",
   "id": "78cf1c6e-9a82-43ae-9afe-3c8292dcbe61",
   "metadata": {},
   "source": [
    "Id - No use - \n",
    " MSSubClass - numeric - no chnages\n",
    "MSZoning - categorical - one hot encoding\n",
    " LotFrontage - numeric - no changes\n",
    " LotArea - numeric - no changes\n",
    "Street - categorical - one hot encoding\n",
    " *************** Alley - remove - lot of missing values ********************\n",
    "LotShape - Reg > IR1 > IR2 > IR3 - targeted encoding - 4>3>2>1\n",
    "LandContour - categorical - one hot encoding\n",
    "Utilities - categorical - one hot encoding\n",
    "LotConfig - categorical - one hot encoding\n",
    "LandSlop - Sev < Mod < Gtl - targted encoding - 1 < 2 < 3\n",
    "Neighborhood - categorical - one hot encoding\n",
    "Condition1 - categorical - one hot encoding\n",
    "Condition2 - categorical - one hot encoding\n",
    "BldgType - categorical - one hot encoding\n",
    "HouseStyle - categorical - one hot encoding\n",
    "OverallQual - numeric - no changes\n",
    "OverallCond - numeric - no changes\n",
    "YearBuilt - numeric - no changes\n",
    "YearRemodAdd - numeric - no changes\n",
    "RoofStyle - categorical - one hot encoding\n",
    "RoofMatl - categorical - one hot encoding\n",
    "Exterior1st - categorical - one hot encoding\n",
    "Exterior2nd - categorical - one hot encoding\n",
    "*************** MasVnrType - remove - lot of missing values ********************\n",
    "MasVnrArea - numeric - no changes\n",
    "ExterQual - Ex > Gd > Ta > Fa > Po - targeted encoding 5 > 4 > 3 > 2 > 1\n",
    "ExterCond - Ex > Gd > Ta > Fa > Po - targeted encoding 5 > 4 > 3 > 2 > 1\n",
    "Foundation - categorical - one hot encoding\n",
    "BsmtQual - Ex > Gd > Ta > Fa > Po > NA - targeted encoding 5 > 4 > 3 > 2 > 1 > 0\n",
    "BsmtCond - Ex > Gd > Ta > Fa > Po > NA - targeted encoding 5 > 4 > 3 > 2 > 1 > 0\n",
    "BsmtExposure - Gd > Av > Mn > No > NA - targeted encoding - 4 > 3 > 2 > 1 > 0\n",
    "BsmtFinType1 - \n",
    "BsmtFinSF1 + BsmtFinSF2 - Add \n",
    "BsmtFinType2\n",
    "BsmtUnfSF - numeric - no changes\n",
    "TotalBsmtSF - numeric - no changes\n",
    "Heating - categorical - one hot encoding\n",
    "HeatingQC - Ex > Gd > Ta > Fa > Po - targeted encoding 5 > 4 > 3 > 2 > 1\n",
    "CentralAir - categorical - one hot encoding\n",
    "Electrical - categorical - one hot encoding\n",
    "1stFlrSF - numeric - no changes\n",
    "2ndFlrSF - numeric - no changes\n",
    "LowQualFinSF - numeric - no changes\n",
    "GrLivArea - numeric - no changes\n",
    "BsmtFullBath - numeric - no changes\n",
    "BsmtHalfBath - numeric - no changes\n",
    "FullBath - numeric - no changes\n",
    "HalfBath - numeric - no changes\n",
    "BedroomAbvGr - numeric - no changes\n",
    "KitchenAbvGr - numeric - no changes\n",
    "KitchenQual - Ex > Gd > Ta > Fa > Po - targeted encoding 5 > 4 > 3 > 2 > 1\n",
    "TotRmsAbvGrd - numeric - no changes\n",
    "Functional - categorical - one hot encoding\n",
    "Fireplaces - numeric - no changes\n",
    "FireplaceQu - Ex > Gd > Ta > Fa > Po > NA - targeted encoding 5 > 4 > 3 > 2 > 1 > 0\n",
    "GarageType  2Types > Attchd > Basment > BuiltIn\t> CarPort > Detchd > NA - targeted encoding - 6 > 5 > 4 > 3 > 2 > 1 > 0\n",
    "GarageYrBlt - numeric - no changes\n",
    "GarageFinish - Fin > RFn > Unf > NA - targeted encoding 3 > 2 > 1 > 0\n",
    "GarageCars - numeric - no changes\n",
    "GarageArea - numeric - no changes\n",
    "GarageQual - Ex > Gd > Ta > Fa > Po > NA - targeted encoding 5 > 4 > 3 > 2 > 1 > 0\n",
    "GarageCond - Ex > Gd > Ta > Fa > Po > NA - targeted encoding 5 > 4 > 3 > 2 > 1 > 0\n",
    "PavedDrive - Y > P > N  - targeted encoding 3 > 2 > 1\n",
    "WoodDeckSF - numeric - no changes\n",
    "OpenPorchSF - numeric - no changes\n",
    "EnclosedPorch - numeric - no changes\n",
    "3SsnPorch - numeric - no changes\n",
    "ScreenPorch - numeric - no changes\n",
    "PoolArea - numeric - no changes\n",
    "PoolQC - Ex > Gd > TA > Fa > Na - targeted encoding - 5 > 4 > 3 > 2 > 0\n",
    "Fence - GdPrv > MnPrv > GdWo > MnWw > NA - targeted encoding - 4 > 3 > 2 > 1 > 0\n",
    "************************ MiscFeature - Remove - lot of null values ************************ \n",
    "MiscVal - numeric - no changes\n",
    "MoSold - numeric - no changes\n",
    "YrSold - numeric - no changes\n",
    "SaleType - categorical - one hot encoding\n",
    "SaleCondition - categorical - one hot encoding\n",
    "SalePrice"
   ]
  },
  {
   "cell_type": "code",
   "execution_count": 72,
   "id": "9fc5b0c6-429c-4efb-8d2f-9c96101e30f2",
   "metadata": {},
   "outputs": [],
   "source": [
    "import pandas as pd\n",
    "import matplotlib.pyplot as plt\n",
    "from sklearn.preprocessing import LabelEncoder"
   ]
  },
  {
   "cell_type": "code",
   "execution_count": 73,
   "id": "b6b14a42-7708-41f1-a313-968853c9268b",
   "metadata": {},
   "outputs": [
    {
     "data": {
      "text/html": [
       "<div>\n",
       "<style scoped>\n",
       "    .dataframe tbody tr th:only-of-type {\n",
       "        vertical-align: middle;\n",
       "    }\n",
       "\n",
       "    .dataframe tbody tr th {\n",
       "        vertical-align: top;\n",
       "    }\n",
       "\n",
       "    .dataframe thead th {\n",
       "        text-align: right;\n",
       "    }\n",
       "</style>\n",
       "<table border=\"1\" class=\"dataframe\">\n",
       "  <thead>\n",
       "    <tr style=\"text-align: right;\">\n",
       "      <th></th>\n",
       "      <th>Id</th>\n",
       "      <th>MSSubClass</th>\n",
       "      <th>MSZoning</th>\n",
       "      <th>LotFrontage</th>\n",
       "      <th>LotArea</th>\n",
       "      <th>Street</th>\n",
       "      <th>Alley</th>\n",
       "      <th>LotShape</th>\n",
       "      <th>LandContour</th>\n",
       "      <th>Utilities</th>\n",
       "      <th>...</th>\n",
       "      <th>PoolArea</th>\n",
       "      <th>PoolQC</th>\n",
       "      <th>Fence</th>\n",
       "      <th>MiscFeature</th>\n",
       "      <th>MiscVal</th>\n",
       "      <th>MoSold</th>\n",
       "      <th>YrSold</th>\n",
       "      <th>SaleType</th>\n",
       "      <th>SaleCondition</th>\n",
       "      <th>SalePrice</th>\n",
       "    </tr>\n",
       "  </thead>\n",
       "  <tbody>\n",
       "    <tr>\n",
       "      <th>0</th>\n",
       "      <td>1</td>\n",
       "      <td>60</td>\n",
       "      <td>RL</td>\n",
       "      <td>65.0</td>\n",
       "      <td>8450</td>\n",
       "      <td>Pave</td>\n",
       "      <td>NaN</td>\n",
       "      <td>Reg</td>\n",
       "      <td>Lvl</td>\n",
       "      <td>AllPub</td>\n",
       "      <td>...</td>\n",
       "      <td>0</td>\n",
       "      <td>NaN</td>\n",
       "      <td>NaN</td>\n",
       "      <td>NaN</td>\n",
       "      <td>0</td>\n",
       "      <td>2</td>\n",
       "      <td>2008</td>\n",
       "      <td>WD</td>\n",
       "      <td>Normal</td>\n",
       "      <td>208500</td>\n",
       "    </tr>\n",
       "    <tr>\n",
       "      <th>1</th>\n",
       "      <td>2</td>\n",
       "      <td>20</td>\n",
       "      <td>RL</td>\n",
       "      <td>80.0</td>\n",
       "      <td>9600</td>\n",
       "      <td>Pave</td>\n",
       "      <td>NaN</td>\n",
       "      <td>Reg</td>\n",
       "      <td>Lvl</td>\n",
       "      <td>AllPub</td>\n",
       "      <td>...</td>\n",
       "      <td>0</td>\n",
       "      <td>NaN</td>\n",
       "      <td>NaN</td>\n",
       "      <td>NaN</td>\n",
       "      <td>0</td>\n",
       "      <td>5</td>\n",
       "      <td>2007</td>\n",
       "      <td>WD</td>\n",
       "      <td>Normal</td>\n",
       "      <td>181500</td>\n",
       "    </tr>\n",
       "    <tr>\n",
       "      <th>2</th>\n",
       "      <td>3</td>\n",
       "      <td>60</td>\n",
       "      <td>RL</td>\n",
       "      <td>68.0</td>\n",
       "      <td>11250</td>\n",
       "      <td>Pave</td>\n",
       "      <td>NaN</td>\n",
       "      <td>IR1</td>\n",
       "      <td>Lvl</td>\n",
       "      <td>AllPub</td>\n",
       "      <td>...</td>\n",
       "      <td>0</td>\n",
       "      <td>NaN</td>\n",
       "      <td>NaN</td>\n",
       "      <td>NaN</td>\n",
       "      <td>0</td>\n",
       "      <td>9</td>\n",
       "      <td>2008</td>\n",
       "      <td>WD</td>\n",
       "      <td>Normal</td>\n",
       "      <td>223500</td>\n",
       "    </tr>\n",
       "    <tr>\n",
       "      <th>3</th>\n",
       "      <td>4</td>\n",
       "      <td>70</td>\n",
       "      <td>RL</td>\n",
       "      <td>60.0</td>\n",
       "      <td>9550</td>\n",
       "      <td>Pave</td>\n",
       "      <td>NaN</td>\n",
       "      <td>IR1</td>\n",
       "      <td>Lvl</td>\n",
       "      <td>AllPub</td>\n",
       "      <td>...</td>\n",
       "      <td>0</td>\n",
       "      <td>NaN</td>\n",
       "      <td>NaN</td>\n",
       "      <td>NaN</td>\n",
       "      <td>0</td>\n",
       "      <td>2</td>\n",
       "      <td>2006</td>\n",
       "      <td>WD</td>\n",
       "      <td>Abnorml</td>\n",
       "      <td>140000</td>\n",
       "    </tr>\n",
       "    <tr>\n",
       "      <th>4</th>\n",
       "      <td>5</td>\n",
       "      <td>60</td>\n",
       "      <td>RL</td>\n",
       "      <td>84.0</td>\n",
       "      <td>14260</td>\n",
       "      <td>Pave</td>\n",
       "      <td>NaN</td>\n",
       "      <td>IR1</td>\n",
       "      <td>Lvl</td>\n",
       "      <td>AllPub</td>\n",
       "      <td>...</td>\n",
       "      <td>0</td>\n",
       "      <td>NaN</td>\n",
       "      <td>NaN</td>\n",
       "      <td>NaN</td>\n",
       "      <td>0</td>\n",
       "      <td>12</td>\n",
       "      <td>2008</td>\n",
       "      <td>WD</td>\n",
       "      <td>Normal</td>\n",
       "      <td>250000</td>\n",
       "    </tr>\n",
       "  </tbody>\n",
       "</table>\n",
       "<p>5 rows × 81 columns</p>\n",
       "</div>"
      ],
      "text/plain": [
       "   Id  MSSubClass MSZoning  LotFrontage  LotArea Street Alley LotShape  \\\n",
       "0   1          60       RL         65.0     8450   Pave   NaN      Reg   \n",
       "1   2          20       RL         80.0     9600   Pave   NaN      Reg   \n",
       "2   3          60       RL         68.0    11250   Pave   NaN      IR1   \n",
       "3   4          70       RL         60.0     9550   Pave   NaN      IR1   \n",
       "4   5          60       RL         84.0    14260   Pave   NaN      IR1   \n",
       "\n",
       "  LandContour Utilities  ... PoolArea PoolQC Fence MiscFeature MiscVal MoSold  \\\n",
       "0         Lvl    AllPub  ...        0    NaN   NaN         NaN       0      2   \n",
       "1         Lvl    AllPub  ...        0    NaN   NaN         NaN       0      5   \n",
       "2         Lvl    AllPub  ...        0    NaN   NaN         NaN       0      9   \n",
       "3         Lvl    AllPub  ...        0    NaN   NaN         NaN       0      2   \n",
       "4         Lvl    AllPub  ...        0    NaN   NaN         NaN       0     12   \n",
       "\n",
       "  YrSold  SaleType  SaleCondition  SalePrice  \n",
       "0   2008        WD         Normal     208500  \n",
       "1   2007        WD         Normal     181500  \n",
       "2   2008        WD         Normal     223500  \n",
       "3   2006        WD        Abnorml     140000  \n",
       "4   2008        WD         Normal     250000  \n",
       "\n",
       "[5 rows x 81 columns]"
      ]
     },
     "execution_count": 73,
     "metadata": {},
     "output_type": "execute_result"
    }
   ],
   "source": [
    "data = pd.read_csv(\"train.csv\")\n",
    "data.head()"
   ]
  },
  {
   "cell_type": "code",
   "execution_count": 74,
   "id": "2dfcec66-64a7-41b1-9b36-91476f0611fe",
   "metadata": {},
   "outputs": [],
   "source": [
    "ordinal_maps = {\n",
    "    \"LotShape\":     {\"Reg\":4, \"IR1\":3, \"IR2\":2, \"IR3\":1},\n",
    "    \"LandSlope\":    {\"Sev\":1, \"Mod\":2, \"Gtl\":3},\n",
    "    \"ExterQual\":    {\"Po\":1, \"Fa\":2, \"TA\":3, \"Gd\":4, \"Ex\":5},\n",
    "    \"ExterCond\":    {\"Po\":1, \"Fa\":2, \"TA\":3, \"Gd\":4, \"Ex\":5},\n",
    "    \"BsmtQual\":     {\"NA\":0, \"Po\":1, \"Fa\":2, \"TA\":3, \"Gd\":4, \"Ex\":5},\n",
    "    \"BsmtCond\":     {\"NA\":0, \"Po\":1, \"Fa\":2, \"TA\":3, \"Gd\":4, \"Ex\":5},\n",
    "    \"BsmtExposure\": {\"NA\":0, \"No\":1, \"Mn\":2, \"Av\":3, \"Gd\":4},\n",
    "    \"HeatingQC\":    {\"Po\":1, \"Fa\":2, \"TA\":3, \"Gd\":4, \"Ex\":5},\n",
    "    \"KitchenQual\":  {\"Po\":1, \"Fa\":2, \"TA\":3, \"Gd\":4, \"Ex\":5},\n",
    "    \"FireplaceQu\":  {\"NA\":0, \"Po\":1, \"Fa\":2, \"TA\":3, \"Gd\":4, \"Ex\":5},\n",
    "    \"GarageFinish\": {\"NA\":0, \"Unf\":1, \"RFn\":2, \"Fin\":3},\n",
    "    \"GarageQual\":   {\"NA\":0, \"Po\":1, \"Fa\":2, \"TA\":3, \"Gd\":4, \"Ex\":5},\n",
    "    \"GarageCond\":   {\"NA\":0, \"Po\":1, \"Fa\":2, \"TA\":3, \"Gd\":4, \"Ex\":5},\n",
    "    \"PoolQC\":       {\"NA\":0, \"Fa\":2, \"TA\":3, \"Gd\":4, \"Ex\":5},\n",
    "    \"Fence\":        {\"NA\":0, \"MnWw\":1, \"GdWo\":2, \"MnPrv\":3, \"GdPrv\":4},\n",
    "}\n",
    "\n",
    "for col,mapping in ordinal_maps.items():\n",
    "    data[col] = data[col].fillna(\"NA\")\n",
    "    data[col] = data[col].map(mapping).astype(\"float\")"
   ]
  },
  {
   "cell_type": "code",
   "execution_count": 75,
   "id": "d5be024b-7c32-4b7f-9f2d-835ddcb1f5cf",
   "metadata": {},
   "outputs": [],
   "source": [
    "data[\"BsmtFinSF\"] = data[\"BsmtFinSF1\"].fillna(0) +data[\"BsmtFinSF2\"].fillna(0)\n",
    "data = data.drop(columns= [\"Alley\", \"MasVnrType\", \"MiscFeature\",\"BsmtFinType2\",\"BsmtFinType1\",\"BsmtFinSF2\",\"BsmtFinSF1\"], axis = 1)"
   ]
  },
  {
   "cell_type": "code",
   "execution_count": 76,
   "id": "930e59b9-1eed-4e5a-a58e-35fd8e2b2b91",
   "metadata": {},
   "outputs": [],
   "source": [
    "data[\"GarageType\"] = data[\"GarageType\"].fillna(\"NA\")\n",
    "data[\"Electrical\"] = data[\"Electrical\"].fillna(data[\"Electrical\"].mode()[0])\n",
    "data[\"GarageYrBlt\"] = data[\"GarageYrBlt\"].fillna(data[\"GarageYrBlt\"].mean())\n",
    "data[\"MasVnrArea\"] = data[\"MasVnrArea\"].fillna(data[\"MasVnrArea\"].mean())\n",
    "data[\"LotFrontage\"] = data[\"LotFrontage\"].fillna(data[\"LotFrontage\"].mean())"
   ]
  },
  {
   "cell_type": "code",
   "execution_count": 77,
   "id": "37a7a94b-9a5e-4bbf-a1ea-80486c417978",
   "metadata": {},
   "outputs": [],
   "source": [
    "ohe_cols = data.select_dtypes(include=[\"object\"]).columns\n",
    "le = LabelEncoder()\n",
    "for i in ohe_cols:\n",
    "    data[i] = le.fit_transform(data[i])"
   ]
  },
  {
   "cell_type": "code",
   "execution_count": 78,
   "id": "874f6c6f-00e7-4d35-b2a4-ee59877b6af6",
   "metadata": {},
   "outputs": [
    {
     "data": {
      "text/plain": [
       "Index(['SalePrice', 'OverallQual', 'GrLivArea', 'ExterQual', 'KitchenQual',\n",
       "       'GarageCars', 'GarageArea', 'TotalBsmtSF', '1stFlrSF', 'BsmtQual',\n",
       "       'FullBath', 'GarageFinish', 'TotRmsAbvGrd', 'YearBuilt', 'FireplaceQu',\n",
       "       'YearRemodAdd', 'MasVnrArea', 'GarageYrBlt', 'Fireplaces', 'HeatingQC',\n",
       "       'Foundation', 'BsmtExposure', 'BsmtFinSF', 'LotFrontage', 'WoodDeckSF',\n",
       "       '2ndFlrSF', 'OpenPorchSF', 'HalfBath', 'GarageQual', 'LotArea',\n",
       "       'GarageCond', 'CentralAir', 'Electrical', 'PavedDrive', 'BsmtFullBath',\n",
       "       'RoofStyle', 'BsmtUnfSF', 'SaleCondition', 'BsmtCond', 'Neighborhood',\n",
       "       'HouseStyle', 'BedroomAbvGr', 'RoofMatl', 'Functional', 'PoolQC',\n",
       "       'ScreenPorch', 'Exterior2nd', 'Exterior1st', 'PoolArea', 'Condition1',\n",
       "       'MoSold', '3SsnPorch', 'Street', 'ExterCond', 'LandContour',\n",
       "       'Condition2', 'Utilities', 'BsmtHalfBath', 'MiscVal', 'Id',\n",
       "       'LowQualFinSF', 'YrSold', 'LandSlope', 'SaleType', 'LotConfig',\n",
       "       'OverallCond', 'MSSubClass', 'BldgType', 'Heating', 'EnclosedPorch',\n",
       "       'KitchenAbvGr', 'Fence', 'MSZoning', 'LotShape', 'GarageType'],\n",
       "      dtype='object')"
      ]
     },
     "execution_count": 78,
     "metadata": {},
     "output_type": "execute_result"
    }
   ],
   "source": [
    "top_20 = data.corr()[\"SalePrice\"].sort_values(ascending=False).keys()\n",
    "top_20"
   ]
  },
  {
   "cell_type": "code",
   "execution_count": 79,
   "id": "ab449f7c-7eb4-460b-8a7b-1868b18a2833",
   "metadata": {},
   "outputs": [],
   "source": [
    "data = data[top_20]"
   ]
  },
  {
   "cell_type": "code",
   "execution_count": 80,
   "id": "27795e45-c221-4aaf-a684-bb7cae8affd6",
   "metadata": {},
   "outputs": [],
   "source": [
    "from sklearn.model_selection import train_test_split\n",
    "from sklearn.tree import DecisionTreeRegressor\n",
    "from sklearn.metrics import accuracy_score,root_mean_squared_error,mean_absolute_error\n",
    "from sklearn.linear_model import LinearRegression, Ridge\n",
    "\n",
    "\n",
    "y = data[\"SalePrice\"]\n",
    "x = data.drop(columns=[\"SalePrice\"])\n",
    "x_train,x_test,y_train,y_test = train_test_split(x,y,random_state=42,test_size=0.2)\n",
    "# x_train,x_test,y_train,y_test = train_test_split(x_data,y_data,random_state=42,test_size=0.2)\n",
    "# x_train.shape,y_train.shape,x_test.shape,y_test.shape,x_test.shape,y_test.shape"
   ]
  },
  {
   "cell_type": "code",
   "execution_count": 81,
   "id": "584beff4-d0b3-4dac-84a6-9e98a94b46ea",
   "metadata": {},
   "outputs": [
    {
     "name": "stdout",
     "output_type": "stream",
     "text": [
      "39143.257370644016\n",
      "25127.380368351318\n"
     ]
    }
   ],
   "source": [
    "\n",
    "\n",
    "dt = DecisionTreeRegressor(random_state=42,max_depth=12)\n",
    "dt.fit(x_train,y_train)\n",
    "y_pred = dt.predict(x_test)\n",
    "print(root_mean_squared_error(y_test,y_pred))\n",
    "print(mean_absolute_error(y_test,y_pred))"
   ]
  },
  {
   "cell_type": "code",
   "execution_count": 82,
   "id": "b4353601-ad15-4471-b3d3-0f8612a38e85",
   "metadata": {},
   "outputs": [
    {
     "name": "stdout",
     "output_type": "stream",
     "text": [
      "34522.464870880845\n",
      "21153.600002800347\n"
     ]
    }
   ],
   "source": [
    "\n",
    "lr = LinearRegression()\n",
    "lr.fit(x_train,y_train)\n",
    "y_pred = lr.predict(x_test)\n",
    "print(root_mean_squared_error(y_test,y_pred))\n",
    "print(mean_absolute_error(y_test,y_pred))"
   ]
  },
  {
   "cell_type": "code",
   "execution_count": 83,
   "id": "9cd84e07-1330-4ee6-b595-9460fdd0bf2b",
   "metadata": {},
   "outputs": [
    {
     "name": "stdout",
     "output_type": "stream",
     "text": [
      "34110.98987285477\n",
      "20368.29134232315\n"
     ]
    }
   ],
   "source": [
    "r = Ridge(random_state=42,alpha=100)\n",
    "r.fit(x_train,y_train)\n",
    "y_pred = r.predict(x_test)\n",
    "print(root_mean_squared_error(y_test,y_pred))\n",
    "print(mean_absolute_error(y_test,y_pred))\n"
   ]
  },
  {
   "cell_type": "code",
   "execution_count": 84,
   "id": "6eefb41f-37e0-48a2-8d0f-4b9590483db5",
   "metadata": {},
   "outputs": [
    {
     "name": "stdout",
     "output_type": "stream",
     "text": [
      "35016.378623478726\n",
      "20325.432226165147\n"
     ]
    },
    {
     "name": "stderr",
     "output_type": "stream",
     "text": [
      "/opt/anaconda3/lib/python3.13/site-packages/sklearn/linear_model/_coordinate_descent.py:695: ConvergenceWarning: Objective did not converge. You might want to increase the number of iterations, check the scale of the features or consider increasing regularisation. Duality gap: 6.797e+11, tolerance: 6.967e+08\n",
      "  model = cd_fast.enet_coordinate_descent(\n"
     ]
    }
   ],
   "source": [
    "from sklearn.linear_model import ElasticNet\n",
    "sn = ElasticNet(random_state=42)\n",
    "sn.fit(x_train,y_train)\n",
    "y_pred = sn.predict(x_test)\n",
    "print(root_mean_squared_error(y_test,y_pred))\n",
    "print(mean_absolute_error(y_test,y_pred))"
   ]
  },
  {
   "cell_type": "code",
   "execution_count": 85,
   "id": "3f0b4698-76fd-4118-93e1-7ce345d92c67",
   "metadata": {},
   "outputs": [
    {
     "data": {
      "text/plain": [
       "np.float64(11.23441182561983)"
      ]
     },
     "execution_count": 85,
     "metadata": {},
     "output_type": "execute_result"
    }
   ],
   "source": [
    "v = y.mean() - 20325.432226165147\n",
    "100 - (v/y.mean())*100"
   ]
  },
  {
   "cell_type": "code",
   "execution_count": null,
   "id": "f7d87308-147f-43a7-a190-91bc9dc39efe",
   "metadata": {},
   "outputs": [],
   "source": []
  },
  {
   "cell_type": "code",
   "execution_count": 86,
   "id": "a2a88c7d-a3db-4bfd-ab33-e7cb2fdccef2",
   "metadata": {},
   "outputs": [],
   "source": [
    "x_pred = lr.predict(x_test)"
   ]
  },
  {
   "cell_type": "code",
   "execution_count": 87,
   "id": "194b52f6-56ba-4875-ba4e-fab8ee25daad",
   "metadata": {},
   "outputs": [
    {
     "data": {
      "text/plain": [
       "(34522.464870880845, 21153.600002800347)"
      ]
     },
     "execution_count": 87,
     "metadata": {},
     "output_type": "execute_result"
    }
   ],
   "source": [
    "root_mean_squared_error(y_test,x_pred), mean_absolute_error(y_test,x_pred)"
   ]
  },
  {
   "cell_type": "code",
   "execution_count": 88,
   "id": "a2b881ee-994b-4796-b664-c6d6d54a68c2",
   "metadata": {},
   "outputs": [
    {
     "name": "stdout",
     "output_type": "stream",
     "text": [
      "Best params (log-target): {'model__alpha': 0.05, 'model__l1_ratio': 0.4}\n",
      "Validation RMSE (original $): 33091.70602537126\n",
      "Validation MAE  (original $): 20283.5593876584\n"
     ]
    }
   ],
   "source": [
    "import numpy as np\n",
    "from sklearn.pipeline import Pipeline\n",
    "from sklearn.preprocessing import StandardScaler\n",
    "from sklearn.linear_model import ElasticNet\n",
    "from sklearn.model_selection import GridSearchCV\n",
    "from sklearn.metrics import root_mean_squared_error, mean_absolute_error\n",
    "\n",
    "# 1) Transform target to stabilize variance\n",
    "ytr = np.log1p(y_train)\n",
    "\n",
    "# 2) Base pipeline (scaling + ElasticNet)\n",
    "base_pipe = Pipeline([\n",
    "    (\"scaler\", StandardScaler(with_mean=True)),\n",
    "    (\"model\",  ElasticNet(max_iter=50000, tol=1e-4, random_state=42))\n",
    "])\n",
    "\n",
    "# 3) Narrow hyperparameter search around sensible region for EN with log-target\n",
    "param_grid = {\n",
    "    \"model__alpha\":    [0.05, 0.1, 0.2, 0.5, 1.0],\n",
    "    \"model__l1_ratio\": [0.4, 0.5, 0.6, 0.7, 0.8]\n",
    "}\n",
    "\n",
    "gs = GridSearchCV(\n",
    "    base_pipe,\n",
    "    param_grid=param_grid,\n",
    "    cv=5,\n",
    "    scoring=\"neg_mean_squared_error\",  # on log-target\n",
    "    n_jobs=-1\n",
    ")\n",
    "gs.fit(x_train, ytr)\n",
    "\n",
    "# 4) Predict on validation, invert the log\n",
    "yval_pred_log = gs.predict(x_test)\n",
    "yval_pred = np.expm1(yval_pred_log)\n",
    "\n",
    "# 5) Report metrics on the original scale ($)\n",
    "rmse = root_mean_squared_error(y_test, yval_pred)\n",
    "mae  = mean_absolute_error(y_test, yval_pred)\n",
    "\n",
    "print(\"Best params (log-target):\", gs.best_params_)\n",
    "print(\"Validation RMSE (original $):\", rmse)\n",
    "print(\"Validation MAE  (original $):\", mae)"
   ]
  },
  {
   "cell_type": "code",
   "execution_count": 89,
   "id": "61912ccf-6884-4407-b787-064468831ab8",
   "metadata": {},
   "outputs": [
    {
     "name": "stdout",
     "output_type": "stream",
     "text": [
      "{'model__alpha': 200} 28079.50615199465 17686.722933952427\n"
     ]
    }
   ],
   "source": [
    "from sklearn.pipeline import Pipeline\n",
    "from sklearn.preprocessing import StandardScaler\n",
    "from sklearn.linear_model import Ridge\n",
    "from sklearn.model_selection import GridSearchCV\n",
    "from sklearn.metrics import root_mean_squared_error, mean_absolute_error\n",
    "import numpy as np\n",
    "\n",
    "ytr = np.log1p(y_train)\n",
    "pipe = Pipeline([\n",
    "    (\"scaler\", StandardScaler(with_mean=True)),\n",
    "    (\"model\", Ridge(random_state=42))\n",
    "])\n",
    "grid = {\"model__alpha\": [5, 10, 30, 50, 100, 200]}\n",
    "gs = GridSearchCV(pipe, grid, cv=5, scoring=\"neg_mean_squared_error\", n_jobs=-1)\n",
    "gs.fit(x_train, ytr)\n",
    "pred = np.expm1(gs.predict(x_test))\n",
    "print(gs.best_params_, root_mean_squared_error(y_test, pred), mean_absolute_error(y_test, pred))"
   ]
  },
  {
   "cell_type": "code",
   "execution_count": 90,
   "id": "1c9160f7-6767-4af4-a8c7-abec344ccad7",
   "metadata": {},
   "outputs": [],
   "source": [
    "from sklearn.compose import TransformedTargetRegressor\n",
    "from sklearn.pipeline import Pipeline\n",
    "from sklearn.preprocessing import StandardScaler\n",
    "from sklearn.linear_model import ElasticNet\n",
    "import numpy as np\n",
    "\n",
    "model = Pipeline([\n",
    "    (\"scaler\", StandardScaler(with_mean=True)),\n",
    "    (\"enet\", ElasticNet(alpha=0.05, l1_ratio=0.4, max_iter=50000, random_state=42))\n",
    "])\n",
    "ttr = TransformedTargetRegressor(regressor=model,\n",
    "                                 func=np.log1p, inverse_func=np.expm1)\n",
    "ttr.fit(x_train, y_train)\n",
    "pred = ttr.predict(x_test)"
   ]
  },
  {
   "cell_type": "code",
   "execution_count": 91,
   "id": "e44fe884-9dbf-49c3-b984-7b27740547f6",
   "metadata": {},
   "outputs": [
    {
     "name": "stdout",
     "output_type": "stream",
     "text": [
      "25854.84765625 15216.9365234375\n"
     ]
    }
   ],
   "source": [
    "from xgboost import XGBRegressor\n",
    "xgb = XGBRegressor(\n",
    "    n_estimators=1200, max_depth=4, learning_rate=0.03,\n",
    "    subsample=0.8, colsample_bytree=0.8, reg_lambda=1.0,\n",
    "    random_state=42, n_jobs=-1\n",
    ")\n",
    "xgb.fit(x_train, np.log1p(y_train))\n",
    "pred = np.expm1(xgb.predict(x_test))\n",
    "print(root_mean_squared_error(y_test, pred), mean_absolute_error(y_test, pred))"
   ]
  },
  {
   "cell_type": "code",
   "execution_count": 92,
   "id": "eea1dba2-bb7e-450f-9906-155a46a8a6b7",
   "metadata": {},
   "outputs": [],
   "source": [
    "test_data = pd.read_csv(\"test.csv\")\n",
    "ordinal_maps = {\n",
    "    \"LotShape\":     {\"Reg\":4, \"IR1\":3, \"IR2\":2, \"IR3\":1},\n",
    "    \"LandSlope\":    {\"Sev\":1, \"Mod\":2, \"Gtl\":3},\n",
    "    \"ExterQual\":    {\"Po\":1, \"Fa\":2, \"TA\":3, \"Gd\":4, \"Ex\":5},\n",
    "    \"ExterCond\":    {\"Po\":1, \"Fa\":2, \"TA\":3, \"Gd\":4, \"Ex\":5},\n",
    "    \"BsmtQual\":     {\"NA\":0, \"Po\":1, \"Fa\":2, \"TA\":3, \"Gd\":4, \"Ex\":5},\n",
    "    \"BsmtCond\":     {\"NA\":0, \"Po\":1, \"Fa\":2, \"TA\":3, \"Gd\":4, \"Ex\":5},\n",
    "    \"BsmtExposure\": {\"NA\":0, \"No\":1, \"Mn\":2, \"Av\":3, \"Gd\":4},\n",
    "    \"HeatingQC\":    {\"Po\":1, \"Fa\":2, \"TA\":3, \"Gd\":4, \"Ex\":5},\n",
    "    \"KitchenQual\":  {\"Po\":1, \"Fa\":2, \"TA\":3, \"Gd\":4, \"Ex\":5},\n",
    "    \"FireplaceQu\":  {\"NA\":0, \"Po\":1, \"Fa\":2, \"TA\":3, \"Gd\":4, \"Ex\":5},\n",
    "    \"GarageFinish\": {\"NA\":0, \"Unf\":1, \"RFn\":2, \"Fin\":3},\n",
    "    \"GarageQual\":   {\"NA\":0, \"Po\":1, \"Fa\":2, \"TA\":3, \"Gd\":4, \"Ex\":5},\n",
    "    \"GarageCond\":   {\"NA\":0, \"Po\":1, \"Fa\":2, \"TA\":3, \"Gd\":4, \"Ex\":5},\n",
    "    \"PoolQC\":       {\"NA\":0, \"Fa\":2, \"TA\":3, \"Gd\":4, \"Ex\":5},\n",
    "    \"Fence\":        {\"NA\":0, \"MnWw\":1, \"GdWo\":2, \"MnPrv\":3, \"GdPrv\":4},\n",
    "}\n",
    "\n",
    "for col,mapping in ordinal_maps.items():\n",
    "    test_data[col] = test_data[col].fillna(\"NA\")\n",
    "    test_data[col] = test_data[col].map(mapping).astype(\"float\")\n",
    "\n",
    "test_data[\"BsmtFinSF\"] = test_data[\"BsmtFinSF1\"].fillna(0) + test_data[\"BsmtFinSF2\"].fillna(0)\n",
    "test_data = test_data.drop(columns= [\"Alley\", \"MasVnrType\", \"MiscFeature\",\"BsmtFinType2\",\"BsmtFinType1\",\"BsmtFinSF2\",\"BsmtFinSF1\"], axis = 1)\n",
    "\n",
    "test_data[\"GarageType\"] = test_data[\"GarageType\"].fillna(\"NA\")\n",
    "test_data[\"Electrical\"] = test_data[\"Electrical\"].fillna(test_data[\"Electrical\"].mode()[0])\n",
    "test_data[\"GarageYrBlt\"] = test_data[\"GarageYrBlt\"].fillna(test_data[\"GarageYrBlt\"].mean())\n",
    "test_data[\"MasVnrArea\"] = test_data[\"MasVnrArea\"].fillna(test_data[\"MasVnrArea\"].mean())\n",
    "test_data[\"LotFrontage\"] = test_data[\"LotFrontage\"].fillna(test_data[\"LotFrontage\"].mean())\n",
    "\n",
    "ohe_cols = test_data.select_dtypes(include=[\"object\"]).columns\n",
    "le = LabelEncoder()\n",
    "for i in ohe_cols:\n",
    "    test_data[i] = le.fit_transform(test_data[i])\n"
   ]
  },
  {
   "cell_type": "code",
   "execution_count": 93,
   "id": "2e734fec-906c-4510-b8be-72b566770480",
   "metadata": {},
   "outputs": [
    {
     "name": "stdout",
     "output_type": "stream",
     "text": [
      "<class 'pandas.core.frame.DataFrame'>\n",
      "RangeIndex: 1459 entries, 0 to 1458\n",
      "Data columns (total 74 columns):\n",
      " #   Column         Non-Null Count  Dtype  \n",
      "---  ------         --------------  -----  \n",
      " 0   Id             1459 non-null   int64  \n",
      " 1   MSSubClass     1459 non-null   int64  \n",
      " 2   MSZoning       1459 non-null   int64  \n",
      " 3   LotFrontage    1459 non-null   float64\n",
      " 4   LotArea        1459 non-null   int64  \n",
      " 5   Street         1459 non-null   int64  \n",
      " 6   LotShape       1459 non-null   float64\n",
      " 7   LandContour    1459 non-null   int64  \n",
      " 8   Utilities      1459 non-null   int64  \n",
      " 9   LotConfig      1459 non-null   int64  \n",
      " 10  LandSlope      1459 non-null   float64\n",
      " 11  Neighborhood   1459 non-null   int64  \n",
      " 12  Condition1     1459 non-null   int64  \n",
      " 13  Condition2     1459 non-null   int64  \n",
      " 14  BldgType       1459 non-null   int64  \n",
      " 15  HouseStyle     1459 non-null   int64  \n",
      " 16  OverallQual    1459 non-null   int64  \n",
      " 17  OverallCond    1459 non-null   int64  \n",
      " 18  YearBuilt      1459 non-null   int64  \n",
      " 19  YearRemodAdd   1459 non-null   int64  \n",
      " 20  RoofStyle      1459 non-null   int64  \n",
      " 21  RoofMatl       1459 non-null   int64  \n",
      " 22  Exterior1st    1459 non-null   int64  \n",
      " 23  Exterior2nd    1459 non-null   int64  \n",
      " 24  MasVnrArea     1459 non-null   float64\n",
      " 25  ExterQual      1459 non-null   float64\n",
      " 26  ExterCond      1459 non-null   float64\n",
      " 27  Foundation     1459 non-null   int64  \n",
      " 28  BsmtQual       1459 non-null   float64\n",
      " 29  BsmtCond       1459 non-null   float64\n",
      " 30  BsmtExposure   1459 non-null   float64\n",
      " 31  BsmtUnfSF      1458 non-null   float64\n",
      " 32  TotalBsmtSF    1458 non-null   float64\n",
      " 33  Heating        1459 non-null   int64  \n",
      " 34  HeatingQC      1459 non-null   float64\n",
      " 35  CentralAir     1459 non-null   int64  \n",
      " 36  Electrical     1459 non-null   int64  \n",
      " 37  1stFlrSF       1459 non-null   int64  \n",
      " 38  2ndFlrSF       1459 non-null   int64  \n",
      " 39  LowQualFinSF   1459 non-null   int64  \n",
      " 40  GrLivArea      1459 non-null   int64  \n",
      " 41  BsmtFullBath   1457 non-null   float64\n",
      " 42  BsmtHalfBath   1457 non-null   float64\n",
      " 43  FullBath       1459 non-null   int64  \n",
      " 44  HalfBath       1459 non-null   int64  \n",
      " 45  BedroomAbvGr   1459 non-null   int64  \n",
      " 46  KitchenAbvGr   1459 non-null   int64  \n",
      " 47  KitchenQual    1458 non-null   float64\n",
      " 48  TotRmsAbvGrd   1459 non-null   int64  \n",
      " 49  Functional     1459 non-null   int64  \n",
      " 50  Fireplaces     1459 non-null   int64  \n",
      " 51  FireplaceQu    1459 non-null   float64\n",
      " 52  GarageType     1459 non-null   int64  \n",
      " 53  GarageYrBlt    1459 non-null   float64\n",
      " 54  GarageFinish   1459 non-null   float64\n",
      " 55  GarageCars     1458 non-null   float64\n",
      " 56  GarageArea     1458 non-null   float64\n",
      " 57  GarageQual     1459 non-null   float64\n",
      " 58  GarageCond     1459 non-null   float64\n",
      " 59  PavedDrive     1459 non-null   int64  \n",
      " 60  WoodDeckSF     1459 non-null   int64  \n",
      " 61  OpenPorchSF    1459 non-null   int64  \n",
      " 62  EnclosedPorch  1459 non-null   int64  \n",
      " 63  3SsnPorch      1459 non-null   int64  \n",
      " 64  ScreenPorch    1459 non-null   int64  \n",
      " 65  PoolArea       1459 non-null   int64  \n",
      " 66  PoolQC         1459 non-null   float64\n",
      " 67  Fence          1459 non-null   float64\n",
      " 68  MiscVal        1459 non-null   int64  \n",
      " 69  MoSold         1459 non-null   int64  \n",
      " 70  YrSold         1459 non-null   int64  \n",
      " 71  SaleType       1459 non-null   int64  \n",
      " 72  SaleCondition  1459 non-null   int64  \n",
      " 73  BsmtFinSF      1459 non-null   float64\n",
      "dtypes: float64(25), int64(49)\n",
      "memory usage: 843.6 KB\n"
     ]
    }
   ],
   "source": [
    "\n",
    "test_data.info()"
   ]
  },
  {
   "cell_type": "code",
   "execution_count": 94,
   "id": "4b8f153c-1ead-4c02-a656-d7bd1ee1b686",
   "metadata": {},
   "outputs": [],
   "source": [
    "for i in test_data.columns:\n",
    "    if test_data[i].isnull().value_counts()[False] != 1459:\n",
    "        test_data[i] = test_data[i].fillna(test_data[i].mean())"
   ]
  },
  {
   "cell_type": "code",
   "execution_count": 95,
   "id": "a85ffc95-6992-410f-9529-4335e2483edf",
   "metadata": {},
   "outputs": [],
   "source": [
    "com_col = x_train.columns.intersection(test_data.columns)\n",
    "x_test_ = test_data[com_col]\n",
    "p = xgb.predict(x_test_)"
   ]
  },
  {
   "cell_type": "code",
   "execution_count": 96,
   "id": "0f15a406-eb35-4e9d-8d1a-ff80e17548f0",
   "metadata": {},
   "outputs": [],
   "source": [
    "p_ = np.expm1(p)"
   ]
  },
  {
   "cell_type": "code",
   "execution_count": 97,
   "id": "c62456c8-4c0c-430c-b9c6-e1fd40a9f5de",
   "metadata": {},
   "outputs": [
    {
     "data": {
      "text/plain": [
       "array([130226.8  , 163659.66 , 188391.02 , ..., 156823.4  , 116606.375,\n",
       "       223836.8  ], dtype=float32)"
      ]
     },
     "execution_count": 97,
     "metadata": {},
     "output_type": "execute_result"
    }
   ],
   "source": [
    "p_"
   ]
  },
  {
   "cell_type": "code",
   "execution_count": 98,
   "id": "c917b4b8-63c4-4fa2-b70f-1da16b1b8c6d",
   "metadata": {},
   "outputs": [
    {
     "data": {
      "text/plain": [
       "np.float32(509821.56)"
      ]
     },
     "execution_count": 98,
     "metadata": {},
     "output_type": "execute_result"
    }
   ],
   "source": [
    "max(p_)"
   ]
  },
  {
   "cell_type": "code",
   "execution_count": 107,
   "id": "677827e3-12b0-445d-9def-9437163ca922",
   "metadata": {},
   "outputs": [
    {
     "data": {
      "text/html": [
       "<div>\n",
       "<style scoped>\n",
       "    .dataframe tbody tr th:only-of-type {\n",
       "        vertical-align: middle;\n",
       "    }\n",
       "\n",
       "    .dataframe tbody tr th {\n",
       "        vertical-align: top;\n",
       "    }\n",
       "\n",
       "    .dataframe thead th {\n",
       "        text-align: right;\n",
       "    }\n",
       "</style>\n",
       "<table border=\"1\" class=\"dataframe\">\n",
       "  <thead>\n",
       "    <tr style=\"text-align: right;\">\n",
       "      <th></th>\n",
       "      <th>Id</th>\n",
       "      <th>SalePrice</th>\n",
       "    </tr>\n",
       "  </thead>\n",
       "  <tbody>\n",
       "    <tr>\n",
       "      <th>0</th>\n",
       "      <td>1461</td>\n",
       "      <td>169277.052498</td>\n",
       "    </tr>\n",
       "    <tr>\n",
       "      <th>1</th>\n",
       "      <td>1462</td>\n",
       "      <td>187758.393989</td>\n",
       "    </tr>\n",
       "    <tr>\n",
       "      <th>2</th>\n",
       "      <td>1463</td>\n",
       "      <td>183583.683570</td>\n",
       "    </tr>\n",
       "    <tr>\n",
       "      <th>3</th>\n",
       "      <td>1464</td>\n",
       "      <td>179317.477511</td>\n",
       "    </tr>\n",
       "    <tr>\n",
       "      <th>4</th>\n",
       "      <td>1465</td>\n",
       "      <td>150730.079977</td>\n",
       "    </tr>\n",
       "    <tr>\n",
       "      <th>...</th>\n",
       "      <td>...</td>\n",
       "      <td>...</td>\n",
       "    </tr>\n",
       "    <tr>\n",
       "      <th>1454</th>\n",
       "      <td>2915</td>\n",
       "      <td>167081.220949</td>\n",
       "    </tr>\n",
       "    <tr>\n",
       "      <th>1455</th>\n",
       "      <td>2916</td>\n",
       "      <td>164788.778231</td>\n",
       "    </tr>\n",
       "    <tr>\n",
       "      <th>1456</th>\n",
       "      <td>2917</td>\n",
       "      <td>219222.423400</td>\n",
       "    </tr>\n",
       "    <tr>\n",
       "      <th>1457</th>\n",
       "      <td>2918</td>\n",
       "      <td>184924.279659</td>\n",
       "    </tr>\n",
       "    <tr>\n",
       "      <th>1458</th>\n",
       "      <td>2919</td>\n",
       "      <td>187741.866657</td>\n",
       "    </tr>\n",
       "  </tbody>\n",
       "</table>\n",
       "<p>1459 rows × 2 columns</p>\n",
       "</div>"
      ],
      "text/plain": [
       "        Id      SalePrice\n",
       "0     1461  169277.052498\n",
       "1     1462  187758.393989\n",
       "2     1463  183583.683570\n",
       "3     1464  179317.477511\n",
       "4     1465  150730.079977\n",
       "...    ...            ...\n",
       "1454  2915  167081.220949\n",
       "1455  2916  164788.778231\n",
       "1456  2917  219222.423400\n",
       "1457  2918  184924.279659\n",
       "1458  2919  187741.866657\n",
       "\n",
       "[1459 rows x 2 columns]"
      ]
     },
     "execution_count": 107,
     "metadata": {},
     "output_type": "execute_result"
    }
   ],
   "source": [
    "smp_s = pd.read_csv(\"sample_submission.csv\")\n",
    "smp_s"
   ]
  },
  {
   "cell_type": "code",
   "execution_count": 103,
   "id": "9381bc54-9539-4294-9c4c-0f7d299d2a44",
   "metadata": {},
   "outputs": [
    {
     "data": {
      "text/plain": [
       "53924.91940310524"
      ]
     },
     "execution_count": 103,
     "metadata": {},
     "output_type": "execute_result"
    }
   ],
   "source": [
    "mean_absolute_error(smp_s[\"SalePrice\"], p_)"
   ]
  },
  {
   "cell_type": "code",
   "execution_count": 104,
   "id": "0c0ef128-028f-4dbe-933b-42ad4165814e",
   "metadata": {},
   "outputs": [],
   "source": [
    "test_data[\"SalePrice\"] = p_"
   ]
  },
  {
   "cell_type": "code",
   "execution_count": 123,
   "id": "d0547f59-088a-4c5b-96bb-38f2cd839ef2",
   "metadata": {},
   "outputs": [],
   "source": [
    "test_data[[\"Id\",\"SalePrice\"]].to_csv(\"Submission.csv\",index = False)"
   ]
  },
  {
   "cell_type": "code",
   "execution_count": 124,
   "id": "8638a21d-749b-4eb7-a9bb-28fd16cd4b7f",
   "metadata": {},
   "outputs": [
    {
     "data": {
      "text/html": [
       "<div>\n",
       "<style scoped>\n",
       "    .dataframe tbody tr th:only-of-type {\n",
       "        vertical-align: middle;\n",
       "    }\n",
       "\n",
       "    .dataframe tbody tr th {\n",
       "        vertical-align: top;\n",
       "    }\n",
       "\n",
       "    .dataframe thead th {\n",
       "        text-align: right;\n",
       "    }\n",
       "</style>\n",
       "<table border=\"1\" class=\"dataframe\">\n",
       "  <thead>\n",
       "    <tr style=\"text-align: right;\">\n",
       "      <th></th>\n",
       "      <th>Id</th>\n",
       "      <th>SalePrice</th>\n",
       "    </tr>\n",
       "  </thead>\n",
       "  <tbody>\n",
       "    <tr>\n",
       "      <th>0</th>\n",
       "      <td>1461</td>\n",
       "      <td>130226.800</td>\n",
       "    </tr>\n",
       "    <tr>\n",
       "      <th>1</th>\n",
       "      <td>1462</td>\n",
       "      <td>163659.660</td>\n",
       "    </tr>\n",
       "    <tr>\n",
       "      <th>2</th>\n",
       "      <td>1463</td>\n",
       "      <td>188391.020</td>\n",
       "    </tr>\n",
       "    <tr>\n",
       "      <th>3</th>\n",
       "      <td>1464</td>\n",
       "      <td>191132.330</td>\n",
       "    </tr>\n",
       "    <tr>\n",
       "      <th>4</th>\n",
       "      <td>1465</td>\n",
       "      <td>193717.800</td>\n",
       "    </tr>\n",
       "    <tr>\n",
       "      <th>...</th>\n",
       "      <td>...</td>\n",
       "      <td>...</td>\n",
       "    </tr>\n",
       "    <tr>\n",
       "      <th>1454</th>\n",
       "      <td>2915</td>\n",
       "      <td>77583.710</td>\n",
       "    </tr>\n",
       "    <tr>\n",
       "      <th>1455</th>\n",
       "      <td>2916</td>\n",
       "      <td>83930.250</td>\n",
       "    </tr>\n",
       "    <tr>\n",
       "      <th>1456</th>\n",
       "      <td>2917</td>\n",
       "      <td>156823.400</td>\n",
       "    </tr>\n",
       "    <tr>\n",
       "      <th>1457</th>\n",
       "      <td>2918</td>\n",
       "      <td>116606.375</td>\n",
       "    </tr>\n",
       "    <tr>\n",
       "      <th>1458</th>\n",
       "      <td>2919</td>\n",
       "      <td>223836.800</td>\n",
       "    </tr>\n",
       "  </tbody>\n",
       "</table>\n",
       "<p>1459 rows × 2 columns</p>\n",
       "</div>"
      ],
      "text/plain": [
       "        Id   SalePrice\n",
       "0     1461  130226.800\n",
       "1     1462  163659.660\n",
       "2     1463  188391.020\n",
       "3     1464  191132.330\n",
       "4     1465  193717.800\n",
       "...    ...         ...\n",
       "1454  2915   77583.710\n",
       "1455  2916   83930.250\n",
       "1456  2917  156823.400\n",
       "1457  2918  116606.375\n",
       "1458  2919  223836.800\n",
       "\n",
       "[1459 rows x 2 columns]"
      ]
     },
     "execution_count": 124,
     "metadata": {},
     "output_type": "execute_result"
    }
   ],
   "source": [
    "pd.read_csv(\"Submission.csv\")"
   ]
  },
  {
   "cell_type": "code",
   "execution_count": null,
   "id": "3626b35f-c9ae-4e8f-afac-ea9eea592b6a",
   "metadata": {},
   "outputs": [],
   "source": []
  }
 ],
 "metadata": {
  "kernelspec": {
   "display_name": "Python 3 (ipykernel)",
   "language": "python",
   "name": "python3"
  },
  "language_info": {
   "codemirror_mode": {
    "name": "ipython",
    "version": 3
   },
   "file_extension": ".py",
   "mimetype": "text/x-python",
   "name": "python",
   "nbconvert_exporter": "python",
   "pygments_lexer": "ipython3",
   "version": "3.13.5"
  }
 },
 "nbformat": 4,
 "nbformat_minor": 5
}
